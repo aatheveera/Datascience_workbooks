{
  "nbformat": 4,
  "nbformat_minor": 0,
  "metadata": {
    "colab": {
      "name": "stats_assignment_05_08.ipynb",
      "provenance": [],
      "collapsed_sections": []
    },
    "kernelspec": {
      "name": "python3",
      "display_name": "Python 3"
    },
    "language_info": {
      "name": "python"
    }
  },
  "cells": [
    {
      "cell_type": "code",
      "execution_count": 53,
      "metadata": {
        "colab": {
          "base_uri": "https://localhost:8080/",
          "height": 52
        },
        "id": "iYqKRGx2bIB4",
        "outputId": "16bd4c0c-8540-43c2-9338-c66521e21ff0"
      },
      "outputs": [
        {
          "output_type": "execute_result",
          "data": {
            "text/plain": [
              "'When we assume a correlation between two variables, we are essentially deducing that a change in one variable impacts a change in another variable.\\n Correlation helps us to determine whether or not, and how strongly, changes in various variables relate to each other'"
            ],
            "application/vnd.google.colaboratory.intrinsic+json": {
              "type": "string"
            }
          },
          "metadata": {},
          "execution_count": 53
        }
      ],
      "source": [
        "import pandas as pd\n",
        "\n",
        "url = 'https://raw.githubusercontent.com/aatheveera/Datascience_workbooks/main/Stats_assignments/Descrip_Stats_problem_data_v1.xlsx'\n",
        "dset1 = pd.read_excel(url,'Problem1')\n",
        "\n",
        "'''Covariance is a quantitative measure of the degree to which the deviation of one variable (X) from its mean \n",
        "is related to the deviation of another variable (Y) from its mean'''\n",
        "\n",
        "'''When we assume a correlation between two variables, we are essentially deducing that a change in one variable impacts a change in another variable.\n",
        " Correlation helps us to determine whether or not, and how strongly, changes in various variables relate to each other'''"
      ]
    },
    {
      "cell_type": "code",
      "source": [
        "'''1.\tIn a Sound and stereo store in Chicago the manager wants to know \n",
        "is there any relationship between the number of weekend television commercials shown and sales at the store at the following week.  \n",
        "The sample data of the store is provided in the spread sheet tab. Use that to solve the below problem\n",
        "\n",
        "1.\tFind the covariance between the variables and tell us is there any relationship between them\n",
        "2.\tIs the Sales and number of commercials correlated?  If yes - Positive/ Negative \n",
        "'''\n",
        "# Covariance is a measure of how much two random variables vary together.\n",
        "\n",
        "dset1 = dset1.rename(columns={\"No of Commercials (x)\":\"No_of_commercials\",\"Sales Volume (K$) (y)\":\"Sales_Volume\"})\n",
        "dset1.head()\n",
        "\n",
        "dset1.No_of_commercials = dset1.No_of_commercials.astype(float)\n",
        "\n",
        "#Series is nothing but items of a column in a excel sheet\n",
        "series1 = pd.Series(dset1.No_of_commercials)\n",
        "series2 = pd.Series(dset1.Sales_Volume)\n",
        "\n",
        "covar = series1.cov(series2)\n",
        "\n",
        "print (\"The covariance between the two variables is\", covar, \",which is POSITIVE, so when the commerials increase, the sales is also increasing\")\n",
        "\n",
        "print(\"The correlation between two variables is :\",(dset1['No_of_commercials'].corr(dset1['Sales_Volume'])), \",So the correlation is POSITIVE\")"
      ],
      "metadata": {
        "colab": {
          "base_uri": "https://localhost:8080/"
        },
        "id": "EG4d5ZItbbbR",
        "outputId": "972e05fe-5a9b-4b15-df25-8eaf96bbf1b6"
      },
      "execution_count": 43,
      "outputs": [
        {
          "output_type": "stream",
          "name": "stdout",
          "text": [
            "The covariance between the two variables is 9.0 ,which is POSITIVE, so when the commerials increase, the sales is also increasing\n",
            "The correlation between two variables is : 0.9149914219956279 ,So the correlation is POSITIVE\n"
          ]
        }
      ]
    },
    {
      "cell_type": "code",
      "source": [
        "\"\"\"2.\tIn the above problem the Manager has been provided the data with the sales amount measured in Kilo $ (1000$). \n",
        "But now the sales team provides a new data in Tab 2 with the amount in $. \n",
        "Does this unit of measurement impact the covariance and correlation calculated in problem1. \n",
        "The data is in Tab2\n",
        "\t\tCalculate the new covariance and correlation and confirm \n",
        "\"\"\"\n",
        "\n",
        "dset2 = pd.read_excel(url,'Problem2')\n",
        "dset2 = dset2.rename(columns={\"No of Commercials (x)\":\"No_of_commercials\",\"Sales Volume ($) (y)\":\"Sales_Volume\"}).head()\n",
        "dset2.head()\n",
        "\n",
        "series1 = pd.Series(dset2.No_of_commercials)\n",
        "series2 = pd.Series(dset2.Sales_Volume)\n",
        "\n",
        "covar = series1.cov(series2)\n",
        "\n",
        "print (\"The covariance for problem 2 is\",covar)\n",
        "\n",
        "corr = (dset1['No_of_commercials'].corr(dset1['Sales_Volume']))\n",
        "\n",
        "print (\"The correlation for problem 2 is\",corr)"
      ],
      "metadata": {
        "colab": {
          "base_uri": "https://localhost:8080/"
        },
        "id": "nyoJauaniHXP",
        "outputId": "8b795eb0-02e2-48a7-f2ae-f31794118dab"
      },
      "execution_count": 52,
      "outputs": [
        {
          "output_type": "stream",
          "name": "stdout",
          "text": [
            "The covariance for problem 2 is 9000.0\n",
            "The correlation for problem 2 is 0.9149914219956279\n"
          ]
        }
      ]
    },
    {
      "cell_type": "code",
      "source": [
        "'''The sales report about the pharmaceutical company in million $ for the 21 states in US has been provided in the spread sheet '''\n",
        "\n",
        "#1.\tProvide the five number summary of the box plot\n",
        "#2.\tCompute the lower and upper limits\n",
        "\n",
        "dset3 = pd.read_excel(url,'Problem3')\n",
        "import math\n",
        "\n",
        "Q1 = dset3['Sales'].quantile(0.25)\n",
        "Q3 = dset3['Sales'].quantile(0.75)\n",
        "IQR = Q3 - Q1\n",
        "L = math.ceil(Q1 - 1.5 * IQR)\n",
        "U = math.floor(Q3 + 1.5 * IQR)\n",
        "\n",
        "print (\"The 1st quartile is\", Q1)\n",
        "print (\"The 3rd quartile is\", Q3)\n",
        "print (\"The IQR is,\", IQR)\n",
        "print (\"The Lower limit is, \", L)\n",
        "print (\"The Upper limit is,\", U)\n",
        "\n",
        "dset3.plot.box()"
      ],
      "metadata": {
        "colab": {
          "base_uri": "https://localhost:8080/",
          "height": 369
        },
        "id": "MdgZUOGJ6_71",
        "outputId": "a89919e1-7ebb-43e4-beb6-3d9f5948d99c"
      },
      "execution_count": 112,
      "outputs": [
        {
          "output_type": "stream",
          "name": "stdout",
          "text": [
            "The 1st quartile is 1872.0\n",
            "The 3rd quartile is 8305.0\n",
            "The IQR is, 6433.0\n",
            "The Lower limit is,  -7777\n",
            "The Upper limit is, 17954\n"
          ]
        },
        {
          "output_type": "execute_result",
          "data": {
            "text/plain": [
              "<matplotlib.axes._subplots.AxesSubplot at 0x7f9d380eb3d0>"
            ]
          },
          "metadata": {},
          "execution_count": 112
        },
        {
          "output_type": "display_data",
          "data": {
            "text/plain": [
              "<Figure size 432x288 with 1 Axes>"
            ],
            "image/png": "[encoded data removed]"
          },
          "metadata": {
            "needs_background": "light"
          }
        }
      ]
    },
    {
      "cell_type": "code",
      "source": [
        "#3.\tDoes the data contain any outlier ? \n",
        "\n",
        "dset3.sort_values(\"Sales\")\n",
        "\n",
        "'''The Sales values lie between the Lower and Upper limits, hence NO OUTLIERS'''"
      ],
      "metadata": {
        "colab": {
          "base_uri": "https://localhost:8080/",
          "height": 708
        },
        "id": "6xZe5sUVCdAL",
        "outputId": "c10306f3-b9bf-49bb-f45f-330ac7b0939f"
      },
      "execution_count": 60,
      "outputs": [
        {
          "output_type": "execute_result",
          "data": {
            "text/plain": [
              "             State  Sales\n",
              "6        Kentucky     608\n",
              "16      Tennessee     739\n",
              "11    Mississippi    1356\n",
              "1      California    1374\n",
              "9   Massachusetts    1850\n",
              "2        Colorado    1872\n",
              "17          Texas    2127\n",
              "4         Georgia    2459\n",
              "10       Michigan    2818\n",
              "18       Virginia    3653\n",
              "14      Louisiana    4019\n",
              "15       Oklahoma    4341\n",
              "19     Washington    5794\n",
              "8        Maryland    6452\n",
              "13     New Jersey    7478\n",
              "20  West Virginia    8305\n",
              "0         Arizona    8408\n",
              "3         Florida    8879\n",
              "12       Missouri   10498\n",
              "5          Kansas   11413\n",
              "7             Ohio  14138"
            ],
            "text/html": [
              "\n",
              "  <div id=\"df-be56fbc9-3769-49e6-a0f6-8b5edcce2b49\">\n",
              "    <div class=\"colab-df-container\">\n",
              "      <div>\n",
              "<style scoped>\n",
              "    .dataframe tbody tr th:only-of-type {\n",
              "        vertical-align: middle;\n",
              "    }\n",
              "\n",
              "    .dataframe tbody tr th {\n",
              "        vertical-align: top;\n",
              "    }\n",
              "\n",
              "    .dataframe thead th {\n",
              "        text-align: right;\n",
              "    }\n",
              "</style>\n",
              "<table border=\"1\" class=\"dataframe\">\n",
              "  <thead>\n",
              "    <tr style=\"text-align: right;\">\n",
              "      <th></th>\n",
              "      <th>State</th>\n",
              "      <th>Sales</th>\n",
              "    </tr>\n",
              "  </thead>\n",
              "  <tbody>\n",
              "    <tr>\n",
              "      <th>6</th>\n",
              "      <td>Kentucky</td>\n",
              "      <td>608</td>\n",
              "    </tr>\n",
              "    <tr>\n",
              "      <th>16</th>\n",
              "      <td>Tennessee</td>\n",
              "      <td>739</td>\n",
              "    </tr>\n",
              "    <tr>\n",
              "      <th>11</th>\n",
              "      <td>Mississippi</td>\n",
              "      <td>1356</td>\n",
              "    </tr>\n",
              "    <tr>\n",
              "      <th>1</th>\n",
              "      <td>California</td>\n",
              "      <td>1374</td>\n",
              "    </tr>\n",
              "    <tr>\n",
              "      <th>9</th>\n",
              "      <td>Massachusetts</td>\n",
              "      <td>1850</td>\n",
              "    </tr>\n",
              "    <tr>\n",
              "      <th>2</th>\n",
              "      <td>Colorado</td>\n",
              "      <td>1872</td>\n",
              "    </tr>\n",
              "    <tr>\n",
              "      <th>17</th>\n",
              "      <td>Texas</td>\n",
              "      <td>2127</td>\n",
              "    </tr>\n",
              "    <tr>\n",
              "      <th>4</th>\n",
              "      <td>Georgia</td>\n",
              "      <td>2459</td>\n",
              "    </tr>\n",
              "    <tr>\n",
              "      <th>10</th>\n",
              "      <td>Michigan</td>\n",
              "      <td>2818</td>\n",
              "    </tr>\n",
              "    <tr>\n",
              "      <th>18</th>\n",
              "      <td>Virginia</td>\n",
              "      <td>3653</td>\n",
              "    </tr>\n",
              "    <tr>\n",
              "      <th>14</th>\n",
              "      <td>Louisiana</td>\n",
              "      <td>4019</td>\n",
              "    </tr>\n",
              "    <tr>\n",
              "      <th>15</th>\n",
              "      <td>Oklahoma</td>\n",
              "      <td>4341</td>\n",
              "    </tr>\n",
              "    <tr>\n",
              "      <th>19</th>\n",
              "      <td>Washington</td>\n",
              "      <td>5794</td>\n",
              "    </tr>\n",
              "    <tr>\n",
              "      <th>8</th>\n",
              "      <td>Maryland</td>\n",
              "      <td>6452</td>\n",
              "    </tr>\n",
              "    <tr>\n",
              "      <th>13</th>\n",
              "      <td>New Jersey</td>\n",
              "      <td>7478</td>\n",
              "    </tr>\n",
              "    <tr>\n",
              "      <th>20</th>\n",
              "      <td>West Virginia</td>\n",
              "      <td>8305</td>\n",
              "    </tr>\n",
              "    <tr>\n",
              "      <th>0</th>\n",
              "      <td>Arizona</td>\n",
              "      <td>8408</td>\n",
              "    </tr>\n",
              "    <tr>\n",
              "      <th>3</th>\n",
              "      <td>Florida</td>\n",
              "      <td>8879</td>\n",
              "    </tr>\n",
              "    <tr>\n",
              "      <th>12</th>\n",
              "      <td>Missouri</td>\n",
              "      <td>10498</td>\n",
              "    </tr>\n",
              "    <tr>\n",
              "      <th>5</th>\n",
              "      <td>Kansas</td>\n",
              "      <td>11413</td>\n",
              "    </tr>\n",
              "    <tr>\n",
              "      <th>7</th>\n",
              "      <td>Ohio</td>\n",
              "      <td>14138</td>\n",
              "    </tr>\n",
              "  </tbody>\n",
              "</table>\n",
              "</div>\n",
              "      <button class=\"colab-df-convert\" onclick=\"convertToInteractive('df-be56fbc9-3769-49e6-a0f6-8b5edcce2b49')\"\n",
              "              title=\"Convert this dataframe to an interactive table.\"\n",
              "              style=\"display:none;\">\n",
              "        \n",
              "  <svg xmlns=\"http://www.w3.org/2000/svg\" height=\"24px\"viewBox=\"0 0 24 24\"\n",
              "       width=\"24px\">\n",
              "    <path d=\"M0 0h24v24H0V0z\" fill=\"none\"/>\n",
              "    <path d=\"M18.56 5.44l.94 2.06.94-2.06 2.06-.94-2.06-.94-.94-2.06-.94 2.06-2.06.94zm-11 1L8.5 8.5l.94-2.06 2.06-.94-2.06-.94L8.5 2.5l-.94 2.06-2.06.94zm10 10l.94 2.06.94-2.06 2.06-.94-2.06-.94-.94-2.06-.94 2.06-2.06.94z\"/><path d=\"M17.41 7.96l-1.37-1.37c-.4-.4-.92-.59-1.43-.59-.52 0-1.04.2-1.43.59L10.3 9.45l-7.72 7.72c-.78.78-.78 2.05 0 2.83L4 21.41c.39.39.9.59 1.41.59.51 0 1.02-.2 1.41-.59l7.78-7.78 2.81-2.81c.8-.78.8-2.07 0-2.86zM5.41 20L4 18.59l7.72-7.72 1.47 1.35L5.41 20z\"/>\n",
              "  </svg>\n",
              "      </button>\n",
              "      \n",
              "  <style>\n",
              "    .colab-df-container {\n",
              "      display:flex;\n",
              "      flex-wrap:wrap;\n",
              "      gap: 12px;\n",
              "    }\n",
              "\n",
              "    .colab-df-convert {\n",
              "      background-color: #E8F0FE;\n",
              "      border: none;\n",
              "      border-radius: 50%;\n",
              "      cursor: pointer;\n",
              "      display: none;\n",
              "      fill: #1967D2;\n",
              "      height: 32px;\n",
              "      padding: 0 0 0 0;\n",
              "      width: 32px;\n",
              "    }\n",
              "\n",
              "    .colab-df-convert:hover {\n",
              "      background-color: #E2EBFA;\n",
              "      box-shadow: 0px 1px 2px rgba(60, 64, 67, 0.3), 0px 1px 3px 1px rgba(60, 64, 67, 0.15);\n",
              "      fill: #174EA6;\n",
              "    }\n",
              "\n",
              "    [theme=dark] .colab-df-convert {\n",
              "      background-color: #3B4455;\n",
              "      fill: #D2E3FC;\n",
              "    }\n",
              "\n",
              "    [theme=dark] .colab-df-convert:hover {\n",
              "      background-color: #434B5C;\n",
              "      box-shadow: 0px 1px 3px 1px rgba(0, 0, 0, 0.15);\n",
              "      filter: drop-shadow(0px 1px 2px rgba(0, 0, 0, 0.3));\n",
              "      fill: #FFFFFF;\n",
              "    }\n",
              "  </style>\n",
              "\n",
              "      <script>\n",
              "        const buttonEl =\n",
              "          document.querySelector('#df-be56fbc9-3769-49e6-a0f6-8b5edcce2b49 button.colab-df-convert');\n",
              "        buttonEl.style.display =\n",
              "          google.colab.kernel.accessAllowed ? 'block' : 'none';\n",
              "\n",
              "        async function convertToInteractive(key) {\n",
              "          const element = document.querySelector('#df-be56fbc9-3769-49e6-a0f6-8b5edcce2b49');\n",
              "          const dataTable =\n",
              "            await google.colab.kernel.invokeFunction('convertToInteractive',\n",
              "                                                     [key], {});\n",
              "          if (!dataTable) return;\n",
              "\n",
              "          const docLinkHtml = 'Like what you see? Visit the ' +\n",
              "            '<a target=\"_blank\" href=https://colab.research.google.com/notebooks/data_table.ipynb>data table notebook</a>'\n",
              "            + ' to learn more about interactive tables.';\n",
              "          element.innerHTML = '';\n",
              "          dataTable['output_type'] = 'display_data';\n",
              "          await google.colab.output.renderOutput(dataTable, element);\n",
              "          const docLink = document.createElement('div');\n",
              "          docLink.innerHTML = docLinkHtml;\n",
              "          element.appendChild(docLink);\n",
              "        }\n",
              "      </script>\n",
              "    </div>\n",
              "  </div>\n",
              "  "
            ]
          },
          "metadata": {},
          "execution_count": 60
        }
      ]
    },
    {
      "cell_type": "code",
      "source": [
        "'''4.\tOhio state has the highest sales at $14,138 million. Suppose a data entry error has been made as $ 41,138 million\n",
        "would this been identified as an outlier and corrected'''\n",
        "\n",
        "dset3.loc[dset3['State']=='Ohio', 'Sales'] = 41138\n",
        "\n",
        "dset3\n",
        "\n",
        "Q1 = dset3['Sales'].quantile(0.25)\n",
        "Q3 = dset3['Sales'].quantile(0.75)\n",
        "IQR = Q3 - Q1\n",
        "L = math.ceil(Q1 - 1.5 * IQR)\n",
        "U = math.floor(Q3 + 1.5 * IQR)\n",
        "\n",
        "print (\"The 1st quartile is\", Q1)\n",
        "print (\"The 3rd quartile is\", Q3)\n",
        "print (\"The IQR is,\", IQR)\n",
        "print (\"The Lower limit is, \", L)\n",
        "print (\"The Upper limit is,\", U)\n",
        "\n",
        "print (\"Since the value of Sales value of the state : Ohio(41138) is higher than the upper limit(17954), it is an OUTLIER\")"
      ],
      "metadata": {
        "colab": {
          "base_uri": "https://localhost:8080/"
        },
        "id": "n_GF9pd2R4ia",
        "outputId": "d30a8d44-4cfa-442b-fd15-6e33753edb44"
      },
      "execution_count": 67,
      "outputs": [
        {
          "output_type": "stream",
          "name": "stdout",
          "text": [
            "The 1st quartile is 1872.0\n",
            "The 3rd quartile is 8305.0\n",
            "The IQR is, 6433.0\n",
            "The Lower limit is,  -7777\n",
            "The Upper limit is, 17954\n",
            "Since the value of Sales value of the state : Ohio(41138) is higher than the upper limit(17954), it is an OUTLIER\n"
          ]
        }
      ]
    },
    {
      "cell_type": "code",
      "source": [
        "'''5.\tOut of 21 states provided what percentile states are above the Washington'''\n",
        "\n",
        "dset3.sort_values(\"Sales\")\n",
        "\n",
        "dset3['Percentile_Rank'] = dset3.Sales.rank(pct = True)\n",
        "dset3.sort_values(\"Percentile_Rank\")\n",
        "display(dset3.loc[(dset3.Percentile_Rank > 0.619048)])"
      ],
      "metadata": {
        "colab": {
          "base_uri": "https://localhost:8080/",
          "height": 300
        },
        "id": "ebXs5asGTusa",
        "outputId": "7f472dbe-39f4-40c6-880f-8bafb00e15b4"
      },
      "execution_count": 88,
      "outputs": [
        {
          "output_type": "display_data",
          "data": {
            "text/plain": [
              "             State  Sales  Percentile_Rank\n",
              "0         Arizona    8408         0.809524\n",
              "3         Florida    8879         0.857143\n",
              "5          Kansas   11413         0.952381\n",
              "7             Ohio  14138         1.000000\n",
              "8        Maryland    6452         0.666667\n",
              "12       Missouri   10498         0.904762\n",
              "13     New Jersey    7478         0.714286\n",
              "20  West Virginia    8305         0.761905"
            ],
            "text/html": [
              "\n",
              "  <div id=\"df-407d5148-0312-4f25-8631-eecdb5df29b0\">\n",
              "    <div class=\"colab-df-container\">\n",
              "      <div>\n",
              "<style scoped>\n",
              "    .dataframe tbody tr th:only-of-type {\n",
              "        vertical-align: middle;\n",
              "    }\n",
              "\n",
              "    .dataframe tbody tr th {\n",
              "        vertical-align: top;\n",
              "    }\n",
              "\n",
              "    .dataframe thead th {\n",
              "        text-align: right;\n",
              "    }\n",
              "</style>\n",
              "<table border=\"1\" class=\"dataframe\">\n",
              "  <thead>\n",
              "    <tr style=\"text-align: right;\">\n",
              "      <th></th>\n",
              "      <th>State</th>\n",
              "      <th>Sales</th>\n",
              "      <th>Percentile_Rank</th>\n",
              "    </tr>\n",
              "  </thead>\n",
              "  <tbody>\n",
              "    <tr>\n",
              "      <th>0</th>\n",
              "      <td>Arizona</td>\n",
              "      <td>8408</td>\n",
              "      <td>0.809524</td>\n",
              "    </tr>\n",
              "    <tr>\n",
              "      <th>3</th>\n",
              "      <td>Florida</td>\n",
              "      <td>8879</td>\n",
              "      <td>0.857143</td>\n",
              "    </tr>\n",
              "    <tr>\n",
              "      <th>5</th>\n",
              "      <td>Kansas</td>\n",
              "      <td>11413</td>\n",
              "      <td>0.952381</td>\n",
              "    </tr>\n",
              "    <tr>\n",
              "      <th>7</th>\n",
              "      <td>Ohio</td>\n",
              "      <td>14138</td>\n",
              "      <td>1.000000</td>\n",
              "    </tr>\n",
              "    <tr>\n",
              "      <th>8</th>\n",
              "      <td>Maryland</td>\n",
              "      <td>6452</td>\n",
              "      <td>0.666667</td>\n",
              "    </tr>\n",
              "    <tr>\n",
              "      <th>12</th>\n",
              "      <td>Missouri</td>\n",
              "      <td>10498</td>\n",
              "      <td>0.904762</td>\n",
              "    </tr>\n",
              "    <tr>\n",
              "      <th>13</th>\n",
              "      <td>New Jersey</td>\n",
              "      <td>7478</td>\n",
              "      <td>0.714286</td>\n",
              "    </tr>\n",
              "    <tr>\n",
              "      <th>20</th>\n",
              "      <td>West Virginia</td>\n",
              "      <td>8305</td>\n",
              "      <td>0.761905</td>\n",
              "    </tr>\n",
              "  </tbody>\n",
              "</table>\n",
              "</div>\n",
              "      <button class=\"colab-df-convert\" onclick=\"convertToInteractive('df-407d5148-0312-4f25-8631-eecdb5df29b0')\"\n",
              "              title=\"Convert this dataframe to an interactive table.\"\n",
              "              style=\"display:none;\">\n",
              "        \n",
              "  <svg xmlns=\"http://www.w3.org/2000/svg\" height=\"24px\"viewBox=\"0 0 24 24\"\n",
              "       width=\"24px\">\n",
              "    <path d=\"M0 0h24v24H0V0z\" fill=\"none\"/>\n",
              "    <path d=\"M18.56 5.44l.94 2.06.94-2.06 2.06-.94-2.06-.94-.94-2.06-.94 2.06-2.06.94zm-11 1L8.5 8.5l.94-2.06 2.06-.94-2.06-.94L8.5 2.5l-.94 2.06-2.06.94zm10 10l.94 2.06.94-2.06 2.06-.94-2.06-.94-.94-2.06-.94 2.06-2.06.94z\"/><path d=\"M17.41 7.96l-1.37-1.37c-.4-.4-.92-.59-1.43-.59-.52 0-1.04.2-1.43.59L10.3 9.45l-7.72 7.72c-.78.78-.78 2.05 0 2.83L4 21.41c.39.39.9.59 1.41.59.51 0 1.02-.2 1.41-.59l7.78-7.78 2.81-2.81c.8-.78.8-2.07 0-2.86zM5.41 20L4 18.59l7.72-7.72 1.47 1.35L5.41 20z\"/>\n",
              "  </svg>\n",
              "      </button>\n",
              "      \n",
              "  <style>\n",
              "    .colab-df-container {\n",
              "      display:flex;\n",
              "      flex-wrap:wrap;\n",
              "      gap: 12px;\n",
              "    }\n",
              "\n",
              "    .colab-df-convert {\n",
              "      background-color: #E8F0FE;\n",
              "      border: none;\n",
              "      border-radius: 50%;\n",
              "      cursor: pointer;\n",
              "      display: none;\n",
              "      fill: #1967D2;\n",
              "      height: 32px;\n",
              "      padding: 0 0 0 0;\n",
              "      width: 32px;\n",
              "    }\n",
              "\n",
              "    .colab-df-convert:hover {\n",
              "      background-color: #E2EBFA;\n",
              "      box-shadow: 0px 1px 2px rgba(60, 64, 67, 0.3), 0px 1px 3px 1px rgba(60, 64, 67, 0.15);\n",
              "      fill: #174EA6;\n",
              "    }\n",
              "\n",
              "    [theme=dark] .colab-df-convert {\n",
              "      background-color: #3B4455;\n",
              "      fill: #D2E3FC;\n",
              "    }\n",
              "\n",
              "    [theme=dark] .colab-df-convert:hover {\n",
              "      background-color: #434B5C;\n",
              "      box-shadow: 0px 1px 3px 1px rgba(0, 0, 0, 0.15);\n",
              "      filter: drop-shadow(0px 1px 2px rgba(0, 0, 0, 0.3));\n",
              "      fill: #FFFFFF;\n",
              "    }\n",
              "  </style>\n",
              "\n",
              "      <script>\n",
              "        const buttonEl =\n",
              "          document.querySelector('#df-407d5148-0312-4f25-8631-eecdb5df29b0 button.colab-df-convert');\n",
              "        buttonEl.style.display =\n",
              "          google.colab.kernel.accessAllowed ? 'block' : 'none';\n",
              "\n",
              "        async function convertToInteractive(key) {\n",
              "          const element = document.querySelector('#df-407d5148-0312-4f25-8631-eecdb5df29b0');\n",
              "          const dataTable =\n",
              "            await google.colab.kernel.invokeFunction('convertToInteractive',\n",
              "                                                     [key], {});\n",
              "          if (!dataTable) return;\n",
              "\n",
              "          const docLinkHtml = 'Like what you see? Visit the ' +\n",
              "            '<a target=\"_blank\" href=https://colab.research.google.com/notebooks/data_table.ipynb>data table notebook</a>'\n",
              "            + ' to learn more about interactive tables.';\n",
              "          element.innerHTML = '';\n",
              "          dataTable['output_type'] = 'display_data';\n",
              "          await google.colab.output.renderOutput(dataTable, element);\n",
              "          const docLink = document.createElement('div');\n",
              "          docLink.innerHTML = docLinkHtml;\n",
              "          element.appendChild(docLink);\n",
              "        }\n",
              "      </script>\n",
              "    </div>\n",
              "  </div>\n",
              "  "
            ]
          },
          "metadata": {}
        }
      ]
    },
    {
      "cell_type": "code",
      "source": [
        "'''6.\tWhat is the 85th percentile ?'''\n",
        "\n",
        "dset3['Sales'].quantile(0.85)"
      ],
      "metadata": {
        "colab": {
          "base_uri": "https://localhost:8080/"
        },
        "id": "IHbbYldFUqbi",
        "outputId": "4fe71ac2-6f3d-46fa-b55a-cc053f7b1118"
      },
      "execution_count": 89,
      "outputs": [
        {
          "output_type": "execute_result",
          "data": {
            "text/plain": [
              "8879.0"
            ]
          },
          "metadata": {},
          "execution_count": 89
        }
      ]
    },
    {
      "cell_type": "code",
      "source": [
        "'''4.\tIn an IPL auction a team wants to buy a foreign player who is an all-rounder to balance their side.\n",
        " The team has the budget to spend on only one player and they are looking for a player who could help them in their batting department. \n",
        " The franchise now has the data with the runs scored by player A and player B in their last 20 matches and are confused on their selection\n",
        "\tCan you help them with your analysis? You know what needs to be done '''\n",
        "\n",
        "dset4 = pd.read_excel(url,'Problem4')\n",
        "dset4 = dset4.rename(columns={\"Player A\":\"Player_A\",\"Player B\":\"Player_B\"})\n",
        "\n",
        "std = dset4[['Player_A', 'Player_B']].std()\n",
        "mean_value = dset4[['Player_A','Player_B']].mean()\n",
        "\n",
        "print(\"The total number of runs scored by both players\" \"\\n \" , dset4[['Player_A','Player_B']].sum())\n",
        "print(\"The average no. of runs scored by both players\" \"\\n \",  dset4[['Player_A','Player_B']].mean())\n",
        "print(\"The Std.Dev of both players are\" \"\\n \", dset4[['Player_A', 'Player_B']].std())\n",
        "\n",
        "coeff = std/mean_value\n",
        "print (\"The Co.eff of variation of both players are\" \"\\n \",coeff)\n",
        "\n",
        "print(\"Player B has higher co.eff of variation, hence his consistency is always questionable, I will pick Player A\")"
      ],
      "metadata": {
        "colab": {
          "base_uri": "https://localhost:8080/"
        },
        "id": "7iklrImzWcx7",
        "outputId": "82421ce8-554c-409d-a7f7-2c1756e37c42"
      },
      "execution_count": 114,
      "outputs": [
        {
          "output_type": "stream",
          "name": "stdout",
          "text": [
            "The total number of runs scored by both players\n",
            "  Player_A    700\n",
            "Player_B    700\n",
            "dtype: int64\n",
            "The average no. of runs scored by both players\n",
            "  Player_A    35.0\n",
            "Player_B    35.0\n",
            "dtype: float64\n",
            "The Std.Dev of both players are\n",
            "  Player_A    20.206825\n",
            "Player_B    25.296141\n",
            "dtype: float64\n",
            "The Co.eff of variation of both players are\n",
            "  Player_A    0.577338\n",
            "Player_B    0.722747\n",
            "dtype: float64\n",
            "Player B has higher co.eff of variation, hence his consistency is always questionable, I will pick Player A\n"
          ]
        }
      ]
    },
    {
      "cell_type": "code",
      "source": [
        ""
      ],
      "metadata": {
        "id": "R6hxKajoZIbr"
      },
      "execution_count": null,
      "outputs": []
    }
  ]
}